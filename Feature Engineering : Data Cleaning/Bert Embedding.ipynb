{
 "cells": [
  {
   "cell_type": "markdown",
   "metadata": {
    "id": "XxO0TlYvgz0O"
   },
   "source": [
    "# Import Libraries"
   ]
  },
  {
   "cell_type": "code",
   "execution_count": 2,
   "metadata": {
    "id": "BuQdQ238gz0Q"
   },
   "outputs": [
    {
     "name": "stderr",
     "output_type": "stream",
     "text": [
      "C:\\Users\\User\\AppData\\Local\\Packages\\PythonSoftwareFoundation.Python.3.11_qbz5n2kfra8p0\\LocalCache\\local-packages\\Python311\\site-packages\\sentence_transformers\\cross_encoder\\CrossEncoder.py:13: TqdmWarning: IProgress not found. Please update jupyter and ipywidgets. See https://ipywidgets.readthedocs.io/en/stable/user_install.html\n",
      "  from tqdm.autonotebook import tqdm, trange\n"
     ]
    },
    {
     "name": "stdout",
     "output_type": "stream",
     "text": [
      "WARNING:tensorflow:From C:\\Users\\User\\AppData\\Local\\Packages\\PythonSoftwareFoundation.Python.3.11_qbz5n2kfra8p0\\LocalCache\\local-packages\\Python311\\site-packages\\tf_keras\\src\\losses.py:2976: The name tf.losses.sparse_softmax_cross_entropy is deprecated. Please use tf.compat.v1.losses.sparse_softmax_cross_entropy instead.\n",
      "\n"
     ]
    }
   ],
   "source": [
    "from sentence_transformers import SentenceTransformer\n",
    "from transformers import DistilBertTokenizer, DistilBertModel\n",
    "import torch\n",
    "import time\n",
    "import pandas as pd\n",
    "import numpy as np\n",
    "import fastparquet"
   ]
  },
  {
   "cell_type": "markdown",
   "metadata": {
    "id": "dQC1pq94gz0S"
   },
   "source": [
    "# Convert Train Data's comment and parent_comment to BERT Embeddings"
   ]
  },
  {
   "cell_type": "code",
   "execution_count": null,
   "metadata": {
    "id": "0NDXHdi6gz0T",
    "outputId": "3b921a45-029c-4f47-ecf5-1fb9c5a7ca02"
   },
   "outputs": [
    {
     "data": {
      "text/html": [
       "<div>\n",
       "<style scoped>\n",
       "    .dataframe tbody tr th:only-of-type {\n",
       "        vertical-align: middle;\n",
       "    }\n",
       "\n",
       "    .dataframe tbody tr th {\n",
       "        vertical-align: top;\n",
       "    }\n",
       "\n",
       "    .dataframe thead th {\n",
       "        text-align: right;\n",
       "    }\n",
       "</style>\n",
       "<table border=\"1\" class=\"dataframe\">\n",
       "  <thead>\n",
       "    <tr style=\"text-align: right;\">\n",
       "      <th></th>\n",
       "      <th>label</th>\n",
       "      <th>comment</th>\n",
       "      <th>author</th>\n",
       "      <th>subreddit</th>\n",
       "      <th>score</th>\n",
       "      <th>ups</th>\n",
       "      <th>downs</th>\n",
       "      <th>date</th>\n",
       "      <th>created_utc</th>\n",
       "      <th>parent_comment</th>\n",
       "    </tr>\n",
       "  </thead>\n",
       "  <tbody>\n",
       "    <tr>\n",
       "      <th>0</th>\n",
       "      <td>0</td>\n",
       "      <td>NC and NH.</td>\n",
       "      <td>Trumpbart</td>\n",
       "      <td>politics</td>\n",
       "      <td>2</td>\n",
       "      <td>-1</td>\n",
       "      <td>-1</td>\n",
       "      <td>2016-10</td>\n",
       "      <td>2016-10-16 23:55:23</td>\n",
       "      <td>Yeah, I get that argument. At this point, I'd ...</td>\n",
       "    </tr>\n",
       "    <tr>\n",
       "      <th>1</th>\n",
       "      <td>0</td>\n",
       "      <td>You do know west teams play against west teams...</td>\n",
       "      <td>Shbshb906</td>\n",
       "      <td>nba</td>\n",
       "      <td>-4</td>\n",
       "      <td>-1</td>\n",
       "      <td>-1</td>\n",
       "      <td>2016-11</td>\n",
       "      <td>2016-11-01 00:24:10</td>\n",
       "      <td>The blazers and Mavericks (The wests 5 and 6 s...</td>\n",
       "    </tr>\n",
       "    <tr>\n",
       "      <th>2</th>\n",
       "      <td>0</td>\n",
       "      <td>They were underdogs earlier today, but since G...</td>\n",
       "      <td>Creepeth</td>\n",
       "      <td>nfl</td>\n",
       "      <td>3</td>\n",
       "      <td>3</td>\n",
       "      <td>0</td>\n",
       "      <td>2016-09</td>\n",
       "      <td>2016-09-22 21:45:37</td>\n",
       "      <td>They're favored to win.</td>\n",
       "    </tr>\n",
       "    <tr>\n",
       "      <th>3</th>\n",
       "      <td>0</td>\n",
       "      <td>This meme isn't funny none of the \"new york ni...</td>\n",
       "      <td>icebrotha</td>\n",
       "      <td>BlackPeopleTwitter</td>\n",
       "      <td>-8</td>\n",
       "      <td>-1</td>\n",
       "      <td>-1</td>\n",
       "      <td>2016-10</td>\n",
       "      <td>2016-10-18 21:03:47</td>\n",
       "      <td>deadass don't kill my buzz</td>\n",
       "    </tr>\n",
       "    <tr>\n",
       "      <th>4</th>\n",
       "      <td>0</td>\n",
       "      <td>I could use one of those tools.</td>\n",
       "      <td>cush2push</td>\n",
       "      <td>MaddenUltimateTeam</td>\n",
       "      <td>6</td>\n",
       "      <td>-1</td>\n",
       "      <td>-1</td>\n",
       "      <td>2016-12</td>\n",
       "      <td>2016-12-30 17:00:13</td>\n",
       "      <td>Yep can confirm I saw the tool they use for th...</td>\n",
       "    </tr>\n",
       "  </tbody>\n",
       "</table>\n",
       "</div>"
      ],
      "text/plain": [
       "   label                                            comment     author  \\\n",
       "0      0                                         NC and NH.  Trumpbart   \n",
       "1      0  You do know west teams play against west teams...  Shbshb906   \n",
       "2      0  They were underdogs earlier today, but since G...   Creepeth   \n",
       "3      0  This meme isn't funny none of the \"new york ni...  icebrotha   \n",
       "4      0                    I could use one of those tools.  cush2push   \n",
       "\n",
       "            subreddit  score  ups  downs     date          created_utc  \\\n",
       "0            politics      2   -1     -1  2016-10  2016-10-16 23:55:23   \n",
       "1                 nba     -4   -1     -1  2016-11  2016-11-01 00:24:10   \n",
       "2                 nfl      3    3      0  2016-09  2016-09-22 21:45:37   \n",
       "3  BlackPeopleTwitter     -8   -1     -1  2016-10  2016-10-18 21:03:47   \n",
       "4  MaddenUltimateTeam      6   -1     -1  2016-12  2016-12-30 17:00:13   \n",
       "\n",
       "                                      parent_comment  \n",
       "0  Yeah, I get that argument. At this point, I'd ...  \n",
       "1  The blazers and Mavericks (The wests 5 and 6 s...  \n",
       "2                            They're favored to win.  \n",
       "3                         deadass don't kill my buzz  \n",
       "4  Yep can confirm I saw the tool they use for th...  "
      ]
     },
     "execution_count": 3,
     "metadata": {},
     "output_type": "execute_result"
    }
   ],
   "source": [
    "df = pd.read_csv('../Datasets/train-balanced-sarcasm.csv')\n",
    "df.head()"
   ]
  },
  {
   "cell_type": "code",
   "execution_count": 4,
   "metadata": {
    "id": "XzQljAIYgz0U"
   },
   "outputs": [],
   "source": [
    "filtered_df = df[df['subreddit'].isin(['news', 'politics', 'worldnews'])]"
   ]
  },
  {
   "cell_type": "code",
   "execution_count": 5,
   "metadata": {
    "id": "SfLubsC8gz0V"
   },
   "outputs": [],
   "source": [
    "filtered_df.loc[:, 'comment'] = filtered_df['comment'].apply(lambda x: str(x).lower() if x is not None else x)\n",
    "filtered_df.loc[:, 'parent_comment'] = filtered_df['parent_comment'].apply(lambda x: str(x).lower() if x is not None else x)"
   ]
  },
  {
   "cell_type": "code",
   "execution_count": null,
   "metadata": {},
   "outputs": [
    {
     "name": "stderr",
     "output_type": "stream",
     "text": [
      "C:\\Users\\User\\AppData\\Local\\Temp\\ipykernel_9104\\3133919642.py:1: SettingWithCopyWarning: \n",
      "A value is trying to be set on a copy of a slice from a DataFrame.\n",
      "Try using .loc[row_indexer,col_indexer] = value instead\n",
      "\n",
      "See the caveats in the documentation: https://pandas.pydata.org/pandas-docs/stable/user_guide/indexing.html#returning-a-view-versus-a-copy\n",
      "  filtered_df[\"seq_len\"] = filtered_df[\"comment\"].apply(lambda x: len(x.split(\" \")))\n"
     ]
    },
    {
     "data": {
      "text/plain": [
       "15.0"
      ]
     },
     "execution_count": 27,
     "metadata": {},
     "output_type": "execute_result"
    }
   ],
   "source": [
    "filtered_df[\"seq_len\"] = filtered_df[\"comment\"].apply(lambda x: len(x.split(\" \")))\n",
    "np.percentile(filtered_df[\"seq_len\"], 75)"
   ]
  },
  {
   "cell_type": "code",
   "execution_count": 6,
   "metadata": {
    "colab": {
     "referenced_widgets": [
      "59c07a4c6b734a3ab394c250fc8b33eb",
      "95b009d8e8394de89bd34337358c97bd",
      "f384142954344be98b5b2a463e503f03",
      "fb750f96c3f94ac0b593b9705c993882",
      "d0bfb45dcb3a4327b0759b4fad289e92"
     ]
    },
    "id": "71VfRXYYgz0V",
    "outputId": "aea9eae0-f188-4bd6-bd1f-7077cfb90da1"
   },
   "outputs": [],
   "source": [
    "tokenizer = DistilBertTokenizer.from_pretrained('distilbert-base-uncased')\n",
    "model = DistilBertModel.from_pretrained('distilbert-base-uncased')"
   ]
  },
  {
   "cell_type": "code",
   "execution_count": 28,
   "metadata": {},
   "outputs": [],
   "source": [
    "def make_embeddings(text, tokenizer, model):\n",
    "    # Tokenize the input text\n",
    "    inputs = tokenizer(text, return_tensors='pt', padding=True, truncation=True, max_length=15)\n",
    "    \n",
    "    # Run the input through BERT\n",
    "    with torch.no_grad():\n",
    "        outputs = model(**inputs)\n",
    "\n",
    "    # Get the token embeddings from the last hidden state\n",
    "    token_embeddings = outputs.last_hidden_state  # Shape: (batch_size, sequence_length, hidden_size)\n",
    "\n",
    "    # Get attention mask to identify padded tokens\n",
    "    attention_mask = inputs['attention_mask']  # Shape: (batch_size, sequence_length)\n",
    "\n",
    "    # Mask out the padding tokens (zero out embeddings for padding)\n",
    "    attention_mask = attention_mask.unsqueeze(-1)  # Add a singleton dimension for broadcasting\n",
    "    token_embeddings = token_embeddings * attention_mask  # Apply mask\n",
    "\n",
    "    # Convert to numpy if needed (depending on further use, you can keep as tensor)\n",
    "    return token_embeddings.numpy()"
   ]
  },
  {
   "cell_type": "code",
   "execution_count": 30,
   "metadata": {
    "id": "tzaJkDdCgz0Y",
    "outputId": "66a0aadf-6a89-4dab-e95f-50a9049002f3"
   },
   "outputs": [
    {
     "name": "stderr",
     "output_type": "stream",
     "text": [
      "C:\\Users\\User\\AppData\\Local\\Temp\\ipykernel_9104\\3409956866.py:1: SettingWithCopyWarning: \n",
      "A value is trying to be set on a copy of a slice from a DataFrame.\n",
      "Try using .loc[row_indexer,col_indexer] = value instead\n",
      "\n",
      "See the caveats in the documentation: https://pandas.pydata.org/pandas-docs/stable/user_guide/indexing.html#returning-a-view-versus-a-copy\n",
      "  filtered_df[\"bert_comment\"] = filtered_df['comment'].apply(lambda x: make_embeddings(x, tokenizer, model))\n"
     ]
    }
   ],
   "source": [
    "filtered_df[\"bert_comment\"] = filtered_df['comment'].apply(lambda x: make_embeddings(x, tokenizer, model))"
   ]
  },
  {
   "cell_type": "code",
   "execution_count": null,
   "metadata": {
    "id": "31Fm-h2Kgz0Z"
   },
   "outputs": [],
   "source": [
    "filtered_df.to_pickle('../Datasets/bert_embeddings_no_pooling_train.pkl')"
   ]
  },
  {
   "cell_type": "code",
   "execution_count": null,
   "metadata": {
    "id": "0vV1RpIqgz0Z"
   },
   "outputs": [],
   "source": [
    "load_train_df_from_pickle = pd.read_pickle('bert_embeddings_no_pooling_train.pkl')"
   ]
  },
  {
   "cell_type": "code",
   "execution_count": 33,
   "metadata": {
    "id": "j1lck6m7gz0Z",
    "outputId": "6da8c45a-2d41-42a8-89a8-d6aa78cff240"
   },
   "outputs": [
    {
     "data": {
      "text/html": [
       "<div>\n",
       "<style scoped>\n",
       "    .dataframe tbody tr th:only-of-type {\n",
       "        vertical-align: middle;\n",
       "    }\n",
       "\n",
       "    .dataframe tbody tr th {\n",
       "        vertical-align: top;\n",
       "    }\n",
       "\n",
       "    .dataframe thead th {\n",
       "        text-align: right;\n",
       "    }\n",
       "</style>\n",
       "<table border=\"1\" class=\"dataframe\">\n",
       "  <thead>\n",
       "    <tr style=\"text-align: right;\">\n",
       "      <th></th>\n",
       "      <th>label</th>\n",
       "      <th>comment</th>\n",
       "      <th>author</th>\n",
       "      <th>subreddit</th>\n",
       "      <th>score</th>\n",
       "      <th>ups</th>\n",
       "      <th>downs</th>\n",
       "      <th>date</th>\n",
       "      <th>created_utc</th>\n",
       "      <th>parent_comment</th>\n",
       "      <th>bert_comment</th>\n",
       "      <th>seq_len</th>\n",
       "    </tr>\n",
       "  </thead>\n",
       "  <tbody>\n",
       "    <tr>\n",
       "      <th>0</th>\n",
       "      <td>0</td>\n",
       "      <td>nc and nh.</td>\n",
       "      <td>Trumpbart</td>\n",
       "      <td>politics</td>\n",
       "      <td>2</td>\n",
       "      <td>-1</td>\n",
       "      <td>-1</td>\n",
       "      <td>2016-10</td>\n",
       "      <td>2016-10-16 23:55:23</td>\n",
       "      <td>yeah, i get that argument. at this point, i'd ...</td>\n",
       "      <td>[[[-0.26591256, -0.29882812, -0.040224716, -0....</td>\n",
       "      <td>3</td>\n",
       "    </tr>\n",
       "    <tr>\n",
       "      <th>10</th>\n",
       "      <td>0</td>\n",
       "      <td>i think a significant amount would be against ...</td>\n",
       "      <td>ThisIsNotKimJongUn</td>\n",
       "      <td>politics</td>\n",
       "      <td>92</td>\n",
       "      <td>92</td>\n",
       "      <td>0</td>\n",
       "      <td>2016-09</td>\n",
       "      <td>2016-09-20 17:53:52</td>\n",
       "      <td>i bet if that money was poured into college de...</td>\n",
       "      <td>[[[0.075774364, 0.03500098, -0.04244519, -0.05...</td>\n",
       "      <td>15</td>\n",
       "    </tr>\n",
       "    <tr>\n",
       "      <th>17</th>\n",
       "      <td>0</td>\n",
       "      <td>because it's what really bothers him... and it...</td>\n",
       "      <td>kozmo1313</td>\n",
       "      <td>politics</td>\n",
       "      <td>15</td>\n",
       "      <td>-1</td>\n",
       "      <td>-1</td>\n",
       "      <td>2016-12</td>\n",
       "      <td>2016-12-26 20:10:45</td>\n",
       "      <td>he actually acts like a moody emo girl on twit...</td>\n",
       "      <td>[[[0.03299582, 0.04939469, -0.08288911, -0.163...</td>\n",
       "      <td>12</td>\n",
       "    </tr>\n",
       "    <tr>\n",
       "      <th>22</th>\n",
       "      <td>0</td>\n",
       "      <td>conservatism as an ideology is for sure a reac...</td>\n",
       "      <td>MayorMcCheese59</td>\n",
       "      <td>politics</td>\n",
       "      <td>1</td>\n",
       "      <td>-1</td>\n",
       "      <td>-1</td>\n",
       "      <td>2016-12</td>\n",
       "      <td>2016-12-24 00:04:06</td>\n",
       "      <td>i still doubt that \"all conservatives stand fo...</td>\n",
       "      <td>[[[-0.1579521, -0.00796949, -0.33657235, -0.09...</td>\n",
       "      <td>29</td>\n",
       "    </tr>\n",
       "    <tr>\n",
       "      <th>23</th>\n",
       "      <td>0</td>\n",
       "      <td>maybe not control, but certainly that is evide...</td>\n",
       "      <td>SunTzu-</td>\n",
       "      <td>politics</td>\n",
       "      <td>1</td>\n",
       "      <td>-1</td>\n",
       "      <td>-1</td>\n",
       "      <td>2016-10</td>\n",
       "      <td>2016-10-13 20:48:14</td>\n",
       "      <td>today russian media tweeted out that wikileaks...</td>\n",
       "      <td>[[[-0.093258426, -0.08815382, -0.058376268, -0...</td>\n",
       "      <td>10</td>\n",
       "    </tr>\n",
       "  </tbody>\n",
       "</table>\n",
       "</div>"
      ],
      "text/plain": [
       "    label                                            comment  \\\n",
       "0       0                                         nc and nh.   \n",
       "10      0  i think a significant amount would be against ...   \n",
       "17      0  because it's what really bothers him... and it...   \n",
       "22      0  conservatism as an ideology is for sure a reac...   \n",
       "23      0  maybe not control, but certainly that is evide...   \n",
       "\n",
       "                author subreddit  score  ups  downs     date  \\\n",
       "0            Trumpbart  politics      2   -1     -1  2016-10   \n",
       "10  ThisIsNotKimJongUn  politics     92   92      0  2016-09   \n",
       "17           kozmo1313  politics     15   -1     -1  2016-12   \n",
       "22     MayorMcCheese59  politics      1   -1     -1  2016-12   \n",
       "23             SunTzu-  politics      1   -1     -1  2016-10   \n",
       "\n",
       "            created_utc                                     parent_comment  \\\n",
       "0   2016-10-16 23:55:23  yeah, i get that argument. at this point, i'd ...   \n",
       "10  2016-09-20 17:53:52  i bet if that money was poured into college de...   \n",
       "17  2016-12-26 20:10:45  he actually acts like a moody emo girl on twit...   \n",
       "22  2016-12-24 00:04:06  i still doubt that \"all conservatives stand fo...   \n",
       "23  2016-10-13 20:48:14  today russian media tweeted out that wikileaks...   \n",
       "\n",
       "                                         bert_comment  seq_len  \n",
       "0   [[[-0.26591256, -0.29882812, -0.040224716, -0....        3  \n",
       "10  [[[0.075774364, 0.03500098, -0.04244519, -0.05...       15  \n",
       "17  [[[0.03299582, 0.04939469, -0.08288911, -0.163...       12  \n",
       "22  [[[-0.1579521, -0.00796949, -0.33657235, -0.09...       29  \n",
       "23  [[[-0.093258426, -0.08815382, -0.058376268, -0...       10  "
      ]
     },
     "execution_count": 33,
     "metadata": {},
     "output_type": "execute_result"
    }
   ],
   "source": [
    "load_train_df_from_pickle.head()"
   ]
  },
  {
   "cell_type": "code",
   "execution_count": null,
   "metadata": {
    "id": "Usl5v7qzgz0a",
    "outputId": "974738a0-3051-4a9b-d1fd-ba291831e13e"
   },
   "outputs": [
    {
     "data": {
      "text/html": [
       "<div>\n",
       "<style scoped>\n",
       "    .dataframe tbody tr th:only-of-type {\n",
       "        vertical-align: middle;\n",
       "    }\n",
       "\n",
       "    .dataframe tbody tr th {\n",
       "        vertical-align: top;\n",
       "    }\n",
       "\n",
       "    .dataframe thead th {\n",
       "        text-align: right;\n",
       "    }\n",
       "</style>\n",
       "<table border=\"1\" class=\"dataframe\">\n",
       "  <thead>\n",
       "    <tr style=\"text-align: right;\">\n",
       "      <th></th>\n",
       "      <th>label</th>\n",
       "      <th>comment</th>\n",
       "      <th>author</th>\n",
       "      <th>subreddit</th>\n",
       "      <th>score</th>\n",
       "      <th>ups</th>\n",
       "      <th>downs</th>\n",
       "      <th>date</th>\n",
       "      <th>created_utc</th>\n",
       "      <th>parent_comment</th>\n",
       "    </tr>\n",
       "  </thead>\n",
       "  <tbody>\n",
       "    <tr>\n",
       "      <th>0</th>\n",
       "      <td>0</td>\n",
       "      <td>Actually most of her supporters and sane peopl...</td>\n",
       "      <td>Quinnjester</td>\n",
       "      <td>politics</td>\n",
       "      <td>3</td>\n",
       "      <td>3</td>\n",
       "      <td>0</td>\n",
       "      <td>2016-09</td>\n",
       "      <td>1473569605</td>\n",
       "      <td>Hillary's Surrogotes Told to Blame Media for '...</td>\n",
       "    </tr>\n",
       "    <tr>\n",
       "      <th>6</th>\n",
       "      <td>0</td>\n",
       "      <td>\"Four Score and Seven Gropes Ago...\"</td>\n",
       "      <td>Kanzisbuddy</td>\n",
       "      <td>politics</td>\n",
       "      <td>-1</td>\n",
       "      <td>-1</td>\n",
       "      <td>-1</td>\n",
       "      <td>2016-10</td>\n",
       "      <td>1477159141</td>\n",
       "      <td>Gettysburg Address: The First 100 Days Of A Tr...</td>\n",
       "    </tr>\n",
       "    <tr>\n",
       "      <th>9</th>\n",
       "      <td>0</td>\n",
       "      <td>Yes, because making sure the party in power do...</td>\n",
       "      <td>rydan</td>\n",
       "      <td>politics</td>\n",
       "      <td>-1</td>\n",
       "      <td>-1</td>\n",
       "      <td>0</td>\n",
       "      <td>2016-09</td>\n",
       "      <td>1472954129</td>\n",
       "      <td>He's already encouraged his supporters to \"obs...</td>\n",
       "    </tr>\n",
       "    <tr>\n",
       "      <th>33</th>\n",
       "      <td>0</td>\n",
       "      <td>Yes you WILL, democrats cave and compromise ev...</td>\n",
       "      <td>o0flatCircle0o</td>\n",
       "      <td>politics</td>\n",
       "      <td>1</td>\n",
       "      <td>-1</td>\n",
       "      <td>-1</td>\n",
       "      <td>2016-11</td>\n",
       "      <td>1479345713</td>\n",
       "      <td>New Top Judiciary Dem Warns Trump: We Won't Fo...</td>\n",
       "    </tr>\n",
       "    <tr>\n",
       "      <th>54</th>\n",
       "      <td>0</td>\n",
       "      <td>You would think that as much as everyone blame...</td>\n",
       "      <td>Old_Army90</td>\n",
       "      <td>politics</td>\n",
       "      <td>3</td>\n",
       "      <td>-1</td>\n",
       "      <td>-1</td>\n",
       "      <td>2016-11</td>\n",
       "      <td>1480531475</td>\n",
       "      <td>This is pure victim-blaming. After the Republi...</td>\n",
       "    </tr>\n",
       "  </tbody>\n",
       "</table>\n",
       "</div>"
      ],
      "text/plain": [
       "    label                                            comment          author  \\\n",
       "0       0  Actually most of her supporters and sane peopl...     Quinnjester   \n",
       "6       0               \"Four Score and Seven Gropes Ago...\"     Kanzisbuddy   \n",
       "9       0  Yes, because making sure the party in power do...           rydan   \n",
       "33      0  Yes you WILL, democrats cave and compromise ev...  o0flatCircle0o   \n",
       "54      0  You would think that as much as everyone blame...      Old_Army90   \n",
       "\n",
       "   subreddit  score  ups  downs     date  created_utc  \\\n",
       "0   politics      3    3      0  2016-09   1473569605   \n",
       "6   politics     -1   -1     -1  2016-10   1477159141   \n",
       "9   politics     -1   -1      0  2016-09   1472954129   \n",
       "33  politics      1   -1     -1  2016-11   1479345713   \n",
       "54  politics      3   -1     -1  2016-11   1480531475   \n",
       "\n",
       "                                       parent_comment  \n",
       "0   Hillary's Surrogotes Told to Blame Media for '...  \n",
       "6   Gettysburg Address: The First 100 Days Of A Tr...  \n",
       "9   He's already encouraged his supporters to \"obs...  \n",
       "33  New Top Judiciary Dem Warns Trump: We Won't Fo...  \n",
       "54  This is pure victim-blaming. After the Republi...  "
      ]
     },
     "execution_count": 62,
     "metadata": {},
     "output_type": "execute_result"
    }
   ],
   "source": [
    "test_df = pd.read_csv('../Datasets/test-balanced.csv', delimiter='\\t', header = None)\n",
    "test_df.columns = ['label', 'comment', 'author', 'subreddit', 'score', 'ups', 'downs', 'date', 'created_utc', 'parent_comment']\n",
    "test_df = test_df[test_df['subreddit'].isin(['news', 'politics', 'worldnews'])]\n",
    "test_df.head()"
   ]
  },
  {
   "cell_type": "code",
   "execution_count": null,
   "metadata": {
    "id": "GkpTAioBgz0b"
   },
   "outputs": [],
   "source": [
    "test_df.loc[:, 'comment'] = test_df['comment'].apply(lambda x: str(x).lower() if x is not None else x)\n",
    "test_df.loc[:, 'parent_comment'] = test_df['parent_comment'].apply(lambda x: str(x).lower() if x is not None else x)"
   ]
  },
  {
   "cell_type": "code",
   "execution_count": null,
   "metadata": {
    "id": "GJ8X2EiOgz0b"
   },
   "outputs": [],
   "source": [
    "test_df.loc[:, \"bert_comment\"] = test_df['comment'].apply(make_embeddings)"
   ]
  },
  {
   "cell_type": "code",
   "execution_count": null,
   "metadata": {
    "id": "7ctoGx-Kgz0c"
   },
   "outputs": [],
   "source": [
    "test_df.loc[:, \"bert_parent_comment\"] = test_df['parent_comment'].apply(make_embeddings)"
   ]
  },
  {
   "cell_type": "code",
   "execution_count": null,
   "metadata": {
    "id": "l7PcFWnQgz0c"
   },
   "outputs": [],
   "source": [
    "test_df.to_pickle('../Datasets/bert_embeddings_test.pkl')"
   ]
  },
  {
   "cell_type": "code",
   "execution_count": null,
   "metadata": {
    "id": "8E4MMe0Kgz0c"
   },
   "outputs": [],
   "source": [
    "load_test_df_from_pickle = pd.read_pickle('../Datasets/bert_embeddings_test.pkl')"
   ]
  },
  {
   "cell_type": "code",
   "execution_count": null,
   "metadata": {
    "id": "ptwP-hnVgz0c",
    "outputId": "3cbc91be-fbce-424c-ed5f-42ce5307bed3"
   },
   "outputs": [
    {
     "data": {
      "text/html": [
       "<div>\n",
       "<style scoped>\n",
       "    .dataframe tbody tr th:only-of-type {\n",
       "        vertical-align: middle;\n",
       "    }\n",
       "\n",
       "    .dataframe tbody tr th {\n",
       "        vertical-align: top;\n",
       "    }\n",
       "\n",
       "    .dataframe thead th {\n",
       "        text-align: right;\n",
       "    }\n",
       "</style>\n",
       "<table border=\"1\" class=\"dataframe\">\n",
       "  <thead>\n",
       "    <tr style=\"text-align: right;\">\n",
       "      <th></th>\n",
       "      <th>label</th>\n",
       "      <th>comment</th>\n",
       "      <th>author</th>\n",
       "      <th>subreddit</th>\n",
       "      <th>score</th>\n",
       "      <th>ups</th>\n",
       "      <th>downs</th>\n",
       "      <th>date</th>\n",
       "      <th>created_utc</th>\n",
       "      <th>parent_comment</th>\n",
       "      <th>bert_comment</th>\n",
       "      <th>bert_parent_comment</th>\n",
       "    </tr>\n",
       "  </thead>\n",
       "  <tbody>\n",
       "    <tr>\n",
       "      <th>0</th>\n",
       "      <td>0</td>\n",
       "      <td>actually most of her supporters and sane peopl...</td>\n",
       "      <td>Quinnjester</td>\n",
       "      <td>politics</td>\n",
       "      <td>3</td>\n",
       "      <td>3</td>\n",
       "      <td>0</td>\n",
       "      <td>2016-09</td>\n",
       "      <td>1473569605</td>\n",
       "      <td>hillary's surrogotes told to blame media for '...</td>\n",
       "      <td>[[0.2728637, -0.17651713, 0.13503198, 0.139170...</td>\n",
       "      <td>[[0.11118117, -0.12834927, 0.066489935, 0.0073...</td>\n",
       "    </tr>\n",
       "    <tr>\n",
       "      <th>6</th>\n",
       "      <td>0</td>\n",
       "      <td>\"four score and seven gropes ago...\"</td>\n",
       "      <td>Kanzisbuddy</td>\n",
       "      <td>politics</td>\n",
       "      <td>-1</td>\n",
       "      <td>-1</td>\n",
       "      <td>-1</td>\n",
       "      <td>2016-10</td>\n",
       "      <td>1477159141</td>\n",
       "      <td>gettysburg address: the first 100 days of a tr...</td>\n",
       "      <td>[[0.03881643, -0.106122, 0.26482913, -0.057139...</td>\n",
       "      <td>[[-0.1293082, -0.0901207, 0.18084918, -0.03291...</td>\n",
       "    </tr>\n",
       "    <tr>\n",
       "      <th>9</th>\n",
       "      <td>0</td>\n",
       "      <td>yes, because making sure the party in power do...</td>\n",
       "      <td>rydan</td>\n",
       "      <td>politics</td>\n",
       "      <td>-1</td>\n",
       "      <td>-1</td>\n",
       "      <td>0</td>\n",
       "      <td>2016-09</td>\n",
       "      <td>1472954129</td>\n",
       "      <td>he's already encouraged his supporters to \"obs...</td>\n",
       "      <td>[[-0.05180453, -0.12974288, 0.06564042, 0.1824...</td>\n",
       "      <td>[[0.15203327, -0.10598624, 0.24455981, 0.03325...</td>\n",
       "    </tr>\n",
       "    <tr>\n",
       "      <th>33</th>\n",
       "      <td>0</td>\n",
       "      <td>yes you will, democrats cave and compromise ev...</td>\n",
       "      <td>o0flatCircle0o</td>\n",
       "      <td>politics</td>\n",
       "      <td>1</td>\n",
       "      <td>-1</td>\n",
       "      <td>-1</td>\n",
       "      <td>2016-11</td>\n",
       "      <td>1479345713</td>\n",
       "      <td>new top judiciary dem warns trump: we won't fo...</td>\n",
       "      <td>[[-0.10038751, -0.13003553, 0.2965448, 0.18923...</td>\n",
       "      <td>[[0.041260313, -0.3143371, 0.06217872, 0.21281...</td>\n",
       "    </tr>\n",
       "    <tr>\n",
       "      <th>54</th>\n",
       "      <td>0</td>\n",
       "      <td>you would think that as much as everyone blame...</td>\n",
       "      <td>Old_Army90</td>\n",
       "      <td>politics</td>\n",
       "      <td>3</td>\n",
       "      <td>-1</td>\n",
       "      <td>-1</td>\n",
       "      <td>2016-11</td>\n",
       "      <td>1480531475</td>\n",
       "      <td>this is pure victim-blaming. after the republi...</td>\n",
       "      <td>[[0.042104598, 0.12200161, -0.00376096, 0.1008...</td>\n",
       "      <td>[[-0.36502808, -0.2924202, -0.05986113, 0.1534...</td>\n",
       "    </tr>\n",
       "  </tbody>\n",
       "</table>\n",
       "</div>"
      ],
      "text/plain": [
       "    label                                            comment          author  \\\n",
       "0       0  actually most of her supporters and sane peopl...     Quinnjester   \n",
       "6       0               \"four score and seven gropes ago...\"     Kanzisbuddy   \n",
       "9       0  yes, because making sure the party in power do...           rydan   \n",
       "33      0  yes you will, democrats cave and compromise ev...  o0flatCircle0o   \n",
       "54      0  you would think that as much as everyone blame...      Old_Army90   \n",
       "\n",
       "   subreddit  score  ups  downs     date  created_utc  \\\n",
       "0   politics      3    3      0  2016-09   1473569605   \n",
       "6   politics     -1   -1     -1  2016-10   1477159141   \n",
       "9   politics     -1   -1      0  2016-09   1472954129   \n",
       "33  politics      1   -1     -1  2016-11   1479345713   \n",
       "54  politics      3   -1     -1  2016-11   1480531475   \n",
       "\n",
       "                                       parent_comment  \\\n",
       "0   hillary's surrogotes told to blame media for '...   \n",
       "6   gettysburg address: the first 100 days of a tr...   \n",
       "9   he's already encouraged his supporters to \"obs...   \n",
       "33  new top judiciary dem warns trump: we won't fo...   \n",
       "54  this is pure victim-blaming. after the republi...   \n",
       "\n",
       "                                         bert_comment  \\\n",
       "0   [[0.2728637, -0.17651713, 0.13503198, 0.139170...   \n",
       "6   [[0.03881643, -0.106122, 0.26482913, -0.057139...   \n",
       "9   [[-0.05180453, -0.12974288, 0.06564042, 0.1824...   \n",
       "33  [[-0.10038751, -0.13003553, 0.2965448, 0.18923...   \n",
       "54  [[0.042104598, 0.12200161, -0.00376096, 0.1008...   \n",
       "\n",
       "                                  bert_parent_comment  \n",
       "0   [[0.11118117, -0.12834927, 0.066489935, 0.0073...  \n",
       "6   [[-0.1293082, -0.0901207, 0.18084918, -0.03291...  \n",
       "9   [[0.15203327, -0.10598624, 0.24455981, 0.03325...  \n",
       "33  [[0.041260313, -0.3143371, 0.06217872, 0.21281...  \n",
       "54  [[-0.36502808, -0.2924202, -0.05986113, 0.1534...  "
      ]
     },
     "execution_count": 70,
     "metadata": {},
     "output_type": "execute_result"
    }
   ],
   "source": [
    "load_test_df_from_pickle.head()"
   ]
  }
 ],
 "metadata": {
  "colab": {
   "provenance": []
  },
  "kernelspec": {
   "display_name": "Python 3",
   "language": "python",
   "name": "python3"
  },
  "language_info": {
   "codemirror_mode": {
    "name": "ipython",
    "version": 3
   },
   "file_extension": ".py",
   "mimetype": "text/x-python",
   "name": "python",
   "nbconvert_exporter": "python",
   "pygments_lexer": "ipython3",
   "version": "3.11.9"
  }
 },
 "nbformat": 4,
 "nbformat_minor": 0
}
