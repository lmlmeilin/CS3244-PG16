{
  "cells": [
    {
      "cell_type": "code",
      "execution_count": 8,
      "metadata": {
        "id": "OaY8iZ5wfalh"
      },
      "outputs": [],
      "source": [
        "import pandas as pd\n",
        "import numpy as np\n",
        "from sklearn.feature_extraction.text import TfidfVectorizer\n",
        "from scipy.sparse import hstack, csr_matrix\n",
        "from sklearn.model_selection import cross_val_predict, cross_validate\n",
        "from sklearn.metrics import auc, roc_auc_score, classification_report, confusion_matrix, precision_recall_curve\n",
        "from sklearn.metrics import precision_score, accuracy_score, recall_score, f1_score\n",
        "from sklearn.feature_selection import mutual_info_classif\n",
        "from sklearn.neighbors import KNeighborsClassifier\n",
        "from sklearn.decomposition import PCA\n",
        "from sklearn.preprocessing import StandardScaler\n",
        "from sklearn.model_selection import KFold\n",
        "import matplotlib.pyplot as plt\n",
        "import seaborn as sns"
      ]
    },
    {
      "cell_type": "code",
      "execution_count": 2,
      "metadata": {
        "colab": {
          "base_uri": "https://localhost:8080/"
        },
        "id": "gnySOLA5flt1",
        "outputId": "6390b2b3-41ef-4612-dc03-c26fe7771bfa"
      },
      "outputs": [],
      "source": [
        "sentiment = pd.read_csv('../Datasets/sentiment.csv')\n",
        "bigram = pd.read_csv('../Datasets/sentiment_bigram_final.csv')"
      ]
    },
    {
      "cell_type": "code",
      "execution_count": 3,
      "metadata": {
        "id": "YTfACdZ7gChu"
      },
      "outputs": [],
      "source": [
        "sentiment = sentiment.dropna()\n",
        "bigram = bigram.dropna()"
      ]
    },
    {
      "cell_type": "markdown",
      "metadata": {
        "id": "kuzRp9Uu51bD"
      },
      "source": [
        "**Using just TF-IDF**"
      ]
    },
    {
      "cell_type": "code",
      "execution_count": 4,
      "metadata": {
        "id": "7FueQ6tzy93M"
      },
      "outputs": [],
      "source": [
        "X_train = sentiment.drop(columns = ['label', 'parent_comment'])\n",
        "y_train = sentiment['label']\n",
        "\n",
        "kf = KFold(n_splits=5, shuffle=True, random_state=123)\n",
        "acc = []\n",
        "prec = []\n",
        "rec = []\n",
        "f1 = []\n",
        "\n",
        "for train_i, val_i in kf.split(X_train):\n",
        "    X_train_fold, X_val_fold = X_train.iloc[train_i], X_train.iloc[val_i]  # numpy array\n",
        "    y_train_fold, y_val_fold = y_train.iloc[train_i], y_train.iloc[val_i]  # pd df\n",
        "\n",
        "    # Apply Tf-idf vectors on comments\n",
        "    tfidf = TfidfVectorizer(min_df=15)\n",
        "    train_tfidf = tfidf.fit_transform(X_train_fold[\"comment\"])\n",
        "    val_tfidf = tfidf.transform(X_val_fold[\"comment\"])\n",
        "\n",
        "    X_train_tfidf = hstack([csr_matrix(X_train_fold.drop(['comment'], axis=1).values), train_tfidf])\n",
        "    X_val_tfidf = hstack([csr_matrix(X_val_fold.drop(['comment'], axis=1).values), val_tfidf])\n",
        "\n",
        "    # Scale features before applying PCA\n",
        "    scaler = StandardScaler()\n",
        "    X_train_tfidf_scaled = scaler.fit_transform(X_train_tfidf.toarray())\n",
        "    X_val_tfidf_scaled = scaler.transform(X_val_tfidf.toarray())\n",
        "\n",
        "    # Apply PCA\n",
        "    pca = PCA(n_components=0.95)\n",
        "    X_train_pca = pca.fit_transform(X_train_tfidf_scaled)\n",
        "    X_val_pca = pca.transform(X_val_tfidf_scaled)\n",
        "\n",
        "    # Train KNN model\n",
        "    knn = KNeighborsClassifier(n_neighbors=10)\n",
        "    knn.fit(X_train_pca, y_train_fold)\n",
        "    preds = knn.predict(X_val_pca)\n",
        "\n",
        "    # Collect evaluation metrics\n",
        "    acc.append(accuracy_score(y_val_fold, preds))\n",
        "    prec.append(precision_score(y_val_fold, preds))\n",
        "    rec.append(recall_score(y_val_fold, preds))\n",
        "    f1.append(f1_score(y_val_fold, preds))\n"
      ]
    },
    {
      "cell_type": "code",
      "execution_count": 5,
      "metadata": {
        "colab": {
          "base_uri": "https://localhost:8080/"
        },
        "id": "dcE0N-pvviEz",
        "outputId": "81f12254-d308-4d55-d4c6-7701ee8a664d"
      },
      "outputs": [
        {
          "name": "stdout",
          "output_type": "stream",
          "text": [
            "Mean accuracy: 0.6066017418511633\n",
            "Mean precision: 0.6722147829080328\n",
            "Mean recall: 0.7127333202233335\n",
            "Mean f1: 0.6918703932912272\n"
          ]
        }
      ],
      "source": [
        "print(f'Mean accuracy: {np.mean(acc)}')\n",
        "print(f'Mean precision: {np.mean(prec)}')\n",
        "print(f'Mean recall: {np.mean(rec)}')\n",
        "print(f'Mean f1: {np.mean(f1)}')"
      ]
    },
    {
      "cell_type": "markdown",
      "metadata": {
        "id": "tm5l_r_7WL9M"
      },
      "source": [
        "**Using TF-IDF with Bigram**"
      ]
    },
    {
      "cell_type": "code",
      "execution_count": 6,
      "metadata": {
        "id": "vXsrWlvu1Spg"
      },
      "outputs": [],
      "source": [
        "X_train_b = bigram.drop(columns = ['label', 'parent_comment'])\n",
        "y_train_b = bigram['label']\n",
        "\n",
        "kf = KFold(n_splits=10, shuffle=True, random_state=123)\n",
        "acc_b = []\n",
        "prec_b = []\n",
        "rec_b = []\n",
        "f1_b = []\n",
        "\n",
        "for train_i, val_i in kf.split(X_train_b):\n",
        "    X_train_fold, X_val_fold = X_train_b.iloc[train_i], X_train_b.iloc[val_i]  # numpy array\n",
        "    y_train_fold, y_val_fold = y_train_b.iloc[train_i], y_train_b.iloc[val_i]  # pd df\n",
        "\n",
        "    # Apply Tf-idf vectors on comments\n",
        "    tfidf = TfidfVectorizer(min_df=15)\n",
        "    train_tfidf = tfidf.fit_transform(X_train_fold[\"comment\"])\n",
        "    val_tfidf = tfidf.transform(X_val_fold[\"comment\"])\n",
        "\n",
        "    X_train_tfidf = hstack([csr_matrix(X_train_fold.drop(['comment'], axis=1).values), train_tfidf])\n",
        "    X_val_tfidf = hstack([csr_matrix(X_val_fold.drop(['comment'], axis=1).values), val_tfidf])\n",
        "\n",
        "    # Scale features before applying PCA\n",
        "    scaler = StandardScaler()\n",
        "    X_train_tfidf_scaled = scaler.fit_transform(X_train_tfidf.toarray())\n",
        "    X_val_tfidf_scaled = scaler.transform(X_val_tfidf.toarray())\n",
        "\n",
        "    # Apply PCA\n",
        "    pca = PCA(n_components=0.95)\n",
        "    X_train_pca = pca.fit_transform(X_train_tfidf_scaled)\n",
        "    X_val_pca = pca.transform(X_val_tfidf_scaled)\n",
        "\n",
        "    # Train KNN model\n",
        "    knn = KNeighborsClassifier(n_neighbors=10)\n",
        "    knn.fit(X_train_pca, y_train_fold)\n",
        "    preds = knn.predict(X_val_pca)\n",
        "\n",
        "    # Collect evaluation metrics\n",
        "    acc_b.append(accuracy_score(y_val_fold, preds))\n",
        "    prec_b.append(precision_score(y_val_fold, preds))\n",
        "    rec_b.append(recall_score(y_val_fold, preds))\n",
        "    f1_b.append(f1_score(y_val_fold, preds))"
      ]
    },
    {
      "cell_type": "code",
      "execution_count": 7,
      "metadata": {
        "id": "TOYednTqXV9t"
      },
      "outputs": [
        {
          "name": "stdout",
          "output_type": "stream",
          "text": [
            "Mean accuracy: 0.6114047577718182\n",
            "Mean precision: 0.6779640774078878\n",
            "Mean recall: 0.7144736313447267\n",
            "Mean f1: 0.6957021210923701\n"
          ]
        }
      ],
      "source": [
        "print(f'Mean accuracy: {np.mean(acc_b)}')\n",
        "print(f'Mean precision: {np.mean(prec_b)}')\n",
        "print(f'Mean recall: {np.mean(rec_b)}')\n",
        "print(f'Mean f1: {np.mean(f1_b)}')"
      ]
    }
  ],
  "metadata": {
    "colab": {
      "provenance": []
    },
    "kernelspec": {
      "display_name": "Python 3",
      "name": "python3"
    },
    "language_info": {
      "codemirror_mode": {
        "name": "ipython",
        "version": 3
      },
      "file_extension": ".py",
      "mimetype": "text/x-python",
      "name": "python",
      "nbconvert_exporter": "python",
      "pygments_lexer": "ipython3",
      "version": "3.12.2"
    }
  },
  "nbformat": 4,
  "nbformat_minor": 0
}
